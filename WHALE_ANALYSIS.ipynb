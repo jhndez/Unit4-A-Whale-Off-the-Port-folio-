{
 "cells": [
  {
   "cell_type": "code",
   "execution_count": 29,
   "metadata": {},
   "outputs": [
    {
     "ename": "AttributeError",
     "evalue": "'NoneType' object has no attribute 'rolling'",
     "output_type": "error",
     "traceback": [
      "\u001b[1;31m---------------------------------------------------------------------------\u001b[0m",
      "\u001b[1;31mAttributeError\u001b[0m                            Traceback (most recent call last)",
      "\u001b[1;32m<ipython-input-29-aea212dacc67>\u001b[0m in \u001b[0;36m<module>\u001b[1;34m\u001b[0m\n\u001b[0;32m     52\u001b[0m \u001b[1;31m#sp500std_21days = sp500_DR.rolling(window=21).std().plot()\u001b[0m\u001b[1;33m\u001b[0m\u001b[1;33m\u001b[0m\u001b[1;33m\u001b[0m\u001b[0m\n\u001b[0;32m     53\u001b[0m \u001b[1;31m#sp500std_30days = sp500_DR.rolling(window=60).std().plot()\u001b[0m\u001b[1;33m\u001b[0m\u001b[1;33m\u001b[0m\u001b[1;33m\u001b[0m\u001b[0m\n\u001b[1;32m---> 54\u001b[1;33m \u001b[0mappended_data_rolling_21days\u001b[0m \u001b[1;33m=\u001b[0m \u001b[0mappended_data\u001b[0m\u001b[1;33m.\u001b[0m\u001b[0mrolling\u001b[0m\u001b[1;33m(\u001b[0m\u001b[0mwindow\u001b[0m\u001b[1;33m=\u001b[0m\u001b[1;36m21\u001b[0m\u001b[1;33m)\u001b[0m\u001b[1;33m.\u001b[0m\u001b[0mstd\u001b[0m\u001b[1;33m(\u001b[0m\u001b[1;33m)\u001b[0m\u001b[1;33m.\u001b[0m\u001b[0mplot\u001b[0m\u001b[1;33m(\u001b[0m\u001b[0mfigsize\u001b[0m\u001b[1;33m=\u001b[0m\u001b[1;33m(\u001b[0m\u001b[1;36m20\u001b[0m\u001b[1;33m,\u001b[0m\u001b[1;36m10\u001b[0m\u001b[1;33m)\u001b[0m\u001b[1;33m,\u001b[0m\u001b[0mtitle\u001b[0m\u001b[1;33m=\u001b[0m\u001b[1;34m'Rolling 21 Days STD'\u001b[0m\u001b[1;33m)\u001b[0m\u001b[1;33m\u001b[0m\u001b[1;33m\u001b[0m\u001b[0m\n\u001b[0m\u001b[0;32m     55\u001b[0m \u001b[1;33m\u001b[0m\u001b[0m\n\u001b[0;32m     56\u001b[0m \u001b[1;31m#correlation\u001b[0m\u001b[1;33m\u001b[0m\u001b[1;33m\u001b[0m\u001b[1;33m\u001b[0m\u001b[0m\n",
      "\u001b[1;31mAttributeError\u001b[0m: 'NoneType' object has no attribute 'rolling'"
     ]
    }
   ],
   "source": [
    "import pandas as pd\n",
    "import numpy as np\n",
    "import datetime as dt\n",
    "from pathlib import Path\n",
    "import seaborn as sns\n",
    "%matplotlib inline\n",
    "import matplotlib.pyplot as plt\n",
    "\n",
    "\n",
    "#cleaning data\n",
    "whale_path = Path('C:/Users/johnh/Desktop/PREWORK_JSH/Module-3/PORTFOLIO_HW/whale_returns.csv')\n",
    "whale = pd.read_csv(whale_path,index_col=\"Date\",infer_datetime_format=True, parse_dates=True)\n",
    "whale.dropna(inplace=True)\n",
    "\n",
    "algo_path = Path('C:/Users/johnh/Desktop/PREWORK_JSH/Module-3/PORTFOLIO_HW/algo_returns.csv')\n",
    "algo = pd.read_csv(algo_path,index_col=\"Date\",infer_datetime_format=True, parse_dates=True)\n",
    "algo.dropna(inplace=True)\n",
    "\n",
    "sp500_path = Path('C:/Users/johnh/Desktop/PREWORK_JSH/Module-3/PORTFOLIO_HW/sp500_history.csv') \n",
    "sp500 = pd.read_csv(sp500_path,index_col=\"Date\", infer_datetime_format=True, parse_dates=True)\n",
    "sp500.dtypes\n",
    "sp500['Close'] = sp500['Close'].str.lstrip('$')\n",
    "sp500['Close'] = sp500['Close'].astype(float)\n",
    "sp500 = sp500.pct_change()\n",
    "sp500.dropna(inplace=True)\n",
    "sp500_DR = sp500.rename(columns={'Close':'SP500 Daily Returns'})\n",
    "\n",
    "# Concatenate all DataFrames into a single DataFrame\n",
    "appended_data = pd.concat([whale,algo,sp500_DR], axis=\"columns\",join=\"inner\")\n",
    "appended_data.dropna(inplace=True)\n",
    "\n",
    "\n",
    "#calculate and plot cumulative returns\n",
    "cm_appended_data = (1+ appended_data).cumprod()-1\n",
    "cm_appended_data.plot(title='Cumulative Returns')\n",
    "\n",
    "#box plot to show risk\n",
    "boxplot = appended_data.boxplot(figsize=(19,6),column=['PAULSON & CO.INC.','SOROS FUND MANAGEMENT LLC','TIGER GLOBAL MANAGEMENT LLC','BERKSHIRE HATHAWAY INC','Algo 1','Algo 2','SP500 Daily Returns'])\n",
    "#'PAULSON & CO. INC'????\n",
    "boxplot\n",
    "\n",
    "#daily std\n",
    "volatility = appended_data.std()\n",
    "volatility\n",
    "\n",
    "#annulized std\n",
    "avt = volatility * np.sqrt(252)\n",
    "avt.sort_values(inplace=True)\n",
    "avt\n",
    "\n",
    "# Calculate and plot the rolling standard deviation for the S&PP 500 using a 21 day window\n",
    "appended_data_rolling_21days = appended_data.rolling(window=21).std().plot(figsize=(20,10),title='Rolling 21 Days STD')\n",
    "\n",
    "#correlation\n",
    "appended_data_rolling_21days_noplot = appended_data.rolling(window=21).std()\n",
    "appended_data_corr = appended_data_rolling_21days_noplot.corr()\n",
    "appended_data_corr\n",
    "\n",
    "#calculating bershire hathaway rollign Beta comparing to sp500 \n",
    "rolling_covar = appended_data['BERKSHIRE HATHAWAY INC'].rolling(window=21).cov(appended_data['SP500 Daily Returns'])\n",
    "rolling_var = appended_data['SP500 Daily Returns'].rolling(window=21).var()\n",
    "buffet_beta_60days = rolling_covar / rolling_var\n",
    "buffet_beta_60days.plot(title='Berkshire Hathaway 60 day BETA rolling avg')\n",
    "\n",
    "#sharpe ratios\n",
    "sharperatios = ((appended_data.mean() *252) / (avt))\n",
    "sharperatios.plot.bar()\n",
    "\n",
    "\n",
    "\n"
   ]
  },
  {
   "cell_type": "code",
   "execution_count": null,
   "metadata": {},
   "outputs": [],
   "source": []
  },
  {
   "cell_type": "code",
   "execution_count": null,
   "metadata": {},
   "outputs": [],
   "source": []
  },
  {
   "cell_type": "code",
   "execution_count": null,
   "metadata": {},
   "outputs": [],
   "source": []
  },
  {
   "cell_type": "code",
   "execution_count": null,
   "metadata": {},
   "outputs": [],
   "source": [
    "\n"
   ]
  },
  {
   "cell_type": "code",
   "execution_count": null,
   "metadata": {},
   "outputs": [],
   "source": []
  }
 ],
 "metadata": {
  "kernelspec": {
   "display_name": "Python 3",
   "language": "python",
   "name": "python3"
  },
  "language_info": {
   "codemirror_mode": {
    "name": "ipython",
    "version": 3
   },
   "file_extension": ".py",
   "mimetype": "text/x-python",
   "name": "python",
   "nbconvert_exporter": "python",
   "pygments_lexer": "ipython3",
   "version": "3.7.4"
  }
 },
 "nbformat": 4,
 "nbformat_minor": 4
}
